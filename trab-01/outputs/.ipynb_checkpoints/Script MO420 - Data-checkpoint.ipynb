{
 "cells": [
  {
   "cell_type": "code",
   "execution_count": 54,
   "metadata": {},
   "outputs": [],
   "source": [
    "import os\n",
    "import subprocess\n",
    "from operator import itemgetter\n",
    "import pandas as pd"
   ]
  },
  {
   "cell_type": "code",
   "execution_count": 60,
   "metadata": {},
   "outputs": [],
   "source": [
    "msFiveResults = []\n",
    "listofInstances = []\n",
    "instance = os.listdir('.')\n",
    "for i in instance:\n",
    "    splitted = i.split(\"_\")\n",
    "    if (splitted[0] == '5' and splitted[1] == 'ms' and len(splitted) > 5):\n",
    "        if (splitted[3] == '.'):\n",
    "            instanceName = splitted[4:]\n",
    "            instanceName[2] = int(instanceName[2])\n",
    "            instanceName[3] = int(instanceName[3])\n",
    "            instanceName[4] = int(instanceName[4].split('.')[0])\n",
    "            listofInstances.append(instanceName)\n",
    "sortedList = sorted(listofInstances, key=itemgetter(2, 3, 4))\n",
    "# print(sortedList)\n",
    "alg = ['ms', 'prep', 'heuristic']\n",
    "time = ['5', '10']\n",
    "df = pd.DataFrame()\n",
    "name = []\n",
    "for i in range(len(sortedList)):\n",
    "    instance = sortedList[i][0] + '_' + sortedList[i][1] + '_' + str(sortedList[i][2]) + '_' + str(sortedList[i][3]) + '_' + str(sortedList[i][4]) + '.txt'\n",
    "    name.append(instance)\n",
    "    \n",
    "df['name'] = name\n",
    "\n",
    "for t in time:\n",
    "    for a in alg:\n",
    "        bestDual = []\n",
    "        dualIteration = []\n",
    "        bestPrimal = []\n",
    "        primalIteration = []\n",
    "        iterations = []\n",
    "        for i in range(len(sortedList)):\n",
    "            instance = sortedList[i][0] + '_' + sortedList[i][1] + '_' + str(sortedList[i][2]) + '_' + str(sortedList[i][3]) + '_' + str(sortedList[i][4]) + '.txt'\n",
    "            file = open(t + '_' + a + '_result_' + instance)\n",
    "            count = 0\n",
    "            for line in file:\n",
    "                if (count == 0):\n",
    "                    bestDual.append(float(line))\n",
    "                elif (count == 1):\n",
    "                    dualIteration.append(int(line))\n",
    "                elif (count == 2):\n",
    "                    bestPrimal.append(int(line))\n",
    "                elif (count == 3):\n",
    "                    primalIteration.append(int(line))\n",
    "                elif (count == 4):\n",
    "                    iterations.append(int(line))\n",
    "                else:\n",
    "                    break\n",
    "                count += 1\n",
    "        df[a + '-' + t + '-best dual'] = bestDual\n",
    "        df[a + '-' + t + '-best primal'] = bestPrimal\n",
    "        df[a + '-' + t + '-dual iter'] = dualIteration\n",
    "        df[a + '-' + t + '-primal iter'] = primalIteration\n",
    "        df[a + '-' + t + '-iter'] = iterations\n",
    "\n",
    "df.to_csv('compare.csv')\n",
    "\n",
    "# instance"
   ]
  },
  {
   "cell_type": "code",
   "execution_count": null,
   "metadata": {},
   "outputs": [],
   "source": []
  },
  {
   "cell_type": "code",
   "execution_count": null,
   "metadata": {},
   "outputs": [],
   "source": [
    "\n"
   ]
  }
 ],
 "metadata": {
  "kernelspec": {
   "display_name": "Python 3",
   "language": "python",
   "name": "python3"
  },
  "language_info": {
   "codemirror_mode": {
    "name": "ipython",
    "version": 3
   },
   "file_extension": ".py",
   "mimetype": "text/x-python",
   "name": "python",
   "nbconvert_exporter": "python",
   "pygments_lexer": "ipython3",
   "version": "3.6.8"
  }
 },
 "nbformat": 4,
 "nbformat_minor": 2
}
